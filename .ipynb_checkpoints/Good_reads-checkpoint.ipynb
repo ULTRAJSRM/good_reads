{
 "cells": [
  {
   "cell_type": "markdown",
   "metadata": {},
   "source": [
    "![Imgur](https://i.imgur.com/xGrPcvZ.jpg)\n",
    "\n",
    "**Image Credits:** T5 (Twitter: @thornsdance, pixiv ID：4819066)"
   ]
  },
  {
   "cell_type": "markdown",
   "metadata": {},
   "source": [
    "# About this notebook\n",
    "\n",
    "This is an exercise about cleaning and extracting data from a dataset using Pandas library from Python.\n",
    "\n",
    "BY: Jorge S. Ruiz"
   ]
  },
  {
   "cell_type": "markdown",
   "metadata": {},
   "source": [
    "## Libraries"
   ]
  },
  {
   "cell_type": "code",
   "execution_count": 3,
   "metadata": {},
   "outputs": [],
   "source": [
    "# Libraries:\n",
    "\n",
    "import pandas as pd\n",
    "import matplotlib.pyplot as plt\n",
    "plt.close('all')\n",
    "import re\n",
    "\n"
   ]
  },
  {
   "cell_type": "markdown",
   "metadata": {},
   "source": [
    "## Read Data & Options"
   ]
  },
  {
   "cell_type": "code",
   "execution_count": 4,
   "metadata": {},
   "outputs": [
    {
     "name": "stdout",
     "output_type": "stream",
     "text": [
      "       bookID                                              title  \\\n",
      "0           1  Harry Potter and the Half-Blood Prince (Harry ...   \n",
      "1           2  Harry Potter and the Order of the Phoenix (Har...   \n",
      "2           4  Harry Potter and the Chamber of Secrets (Harry...   \n",
      "3           5  Harry Potter and the Prisoner of Azkaban (Harr...   \n",
      "4           8  Harry Potter Boxed Set  Books 1-5 (Harry Potte...   \n",
      "...       ...                                                ...   \n",
      "11122   45631   Expelled from Eden: A William T. Vollmann Reader   \n",
      "11123   45633                        You Bright and Risen Angels   \n",
      "11124   45634                    The Ice-Shirt (Seven Dreams #1)   \n",
      "11125   45639                                        Poor People   \n",
      "11126   45641                        Las aventuras de Tom Sawyer   \n",
      "\n",
      "                                                 authors average_rating  \\\n",
      "0                             J.K. Rowling/Mary GrandPré           4.57   \n",
      "1                             J.K. Rowling/Mary GrandPré           4.49   \n",
      "2                                           J.K. Rowling           4.42   \n",
      "3                             J.K. Rowling/Mary GrandPré           4.56   \n",
      "4                             J.K. Rowling/Mary GrandPré           4.78   \n",
      "...                                                  ...            ...   \n",
      "11122  William T. Vollmann/Larry McCaffery/Michael He...           4.06   \n",
      "11123                                William T. Vollmann           4.08   \n",
      "11124                                William T. Vollmann           3.96   \n",
      "11125                                William T. Vollmann           3.72   \n",
      "11126                                         Mark Twain           3.91   \n",
      "\n",
      "             isbn       isbn13 language_code   num_pages  ratings_count  \\\n",
      "0       439785960  9.78044E+12           eng         652        2095690   \n",
      "1       439358078  9.78044E+12           eng         870        2153167   \n",
      "2       439554896  9.78044E+12           eng         352           6333   \n",
      "3      043965548X  9.78044E+12           eng         435        2339585   \n",
      "4       439682584  9.78044E+12           eng        2690          41428   \n",
      "...           ...          ...           ...         ...            ...   \n",
      "11122  1560254416  9.78156E+12           eng         512            156   \n",
      "11123   140110879  9.78014E+12           eng         635            783   \n",
      "11124   140131965  9.78014E+12           eng         415            820   \n",
      "11125    60878827  9.78006E+12           eng         434            769   \n",
      "11126  8497646983   9.7885E+12           spa         272            113   \n",
      "\n",
      "       text_reviews_count publication_date        publisher Unnamed: 12  \n",
      "0                   27591        9/16/2006  Scholastic Inc.         NaN  \n",
      "1                   29221       09/01/2004  Scholastic Inc.         NaN  \n",
      "2                     244       11/01/2003       Scholastic         NaN  \n",
      "3                   36325       05/01/2004  Scholastic Inc.         NaN  \n",
      "4                     164        9/13/2004       Scholastic         NaN  \n",
      "...                   ...              ...              ...         ...  \n",
      "11122                  20       12/21/2004    Da Capo Press         NaN  \n",
      "11123                  56       12/01/1988    Penguin Books         NaN  \n",
      "11124                  95       08/01/1993    Penguin Books         NaN  \n",
      "11125                 139        2/27/2007             Ecco         NaN  \n",
      "11126                  12        5/28/2006    Edimat Libros         NaN  \n",
      "\n",
      "[11127 rows x 13 columns]\n"
     ]
    }
   ],
   "source": [
    "# Importing our dataset from a csv file.\n",
    "booklist = pd.read_csv('books.csv') # Optional encoding: , encoding = 'ISO-8859-1' or encoding = 'UTF-8'\n",
    "\n",
    "type(booklist)\n",
    "\n",
    "# Setting display max rows\n",
    "pd.options.display.max_rows = 10\n",
    "\n",
    "# Our Dataset\n",
    "print(booklist)\n"
   ]
  },
  {
   "cell_type": "markdown",
   "metadata": {},
   "source": [
    "## Data cleanup"
   ]
  },
  {
   "cell_type": "code",
   "execution_count": 5,
   "metadata": {},
   "outputs": [
    {
     "name": "stdout",
     "output_type": "stream",
     "text": [
      "       bookID                                              title  \\\n",
      "0           1  Harry Potter and the Half-Blood Prince (Harry ...   \n",
      "1           2  Harry Potter and the Order of the Phoenix (Har...   \n",
      "2           4  Harry Potter and the Chamber of Secrets (Harry...   \n",
      "3           5  Harry Potter and the Prisoner of Azkaban (Harr...   \n",
      "4           8  Harry Potter Boxed Set  Books 1-5 (Harry Potte...   \n",
      "...       ...                                                ...   \n",
      "11122   45631   Expelled from Eden: A William T. Vollmann Reader   \n",
      "11123   45633                        You Bright and Risen Angels   \n",
      "11124   45634                    The Ice-Shirt (Seven Dreams #1)   \n",
      "11125   45639                                        Poor People   \n",
      "11126   45641                        Las aventuras de Tom Sawyer   \n",
      "\n",
      "                                                 authors average_rating  \\\n",
      "0                             J.K. Rowling/Mary GrandPré           4.57   \n",
      "1                             J.K. Rowling/Mary GrandPré           4.49   \n",
      "2                                           J.K. Rowling           4.42   \n",
      "3                             J.K. Rowling/Mary GrandPré           4.56   \n",
      "4                             J.K. Rowling/Mary GrandPré           4.78   \n",
      "...                                                  ...            ...   \n",
      "11122  William T. Vollmann/Larry McCaffery/Michael He...           4.06   \n",
      "11123                                William T. Vollmann           4.08   \n",
      "11124                                William T. Vollmann           3.96   \n",
      "11125                                William T. Vollmann           3.72   \n",
      "11126                                         Mark Twain           3.91   \n",
      "\n",
      "             isbn       isbn13 language_code   num_pages  ratings_count  \\\n",
      "0       439785960  9.78044E+12           eng         652        2095690   \n",
      "1       439358078  9.78044E+12           eng         870        2153167   \n",
      "2       439554896  9.78044E+12           eng         352           6333   \n",
      "3      043965548X  9.78044E+12           eng         435        2339585   \n",
      "4       439682584  9.78044E+12           eng        2690          41428   \n",
      "...           ...          ...           ...         ...            ...   \n",
      "11122  1560254416  9.78156E+12           eng         512            156   \n",
      "11123   140110879  9.78014E+12           eng         635            783   \n",
      "11124   140131965  9.78014E+12           eng         415            820   \n",
      "11125    60878827  9.78006E+12           eng         434            769   \n",
      "11126  8497646983   9.7885E+12           spa         272            113   \n",
      "\n",
      "       text_reviews_count publication_date        publisher Unnamed: 12  \n",
      "0                   27591        9/16/2006  Scholastic Inc.         NaN  \n",
      "1                   29221       09/01/2004  Scholastic Inc.         NaN  \n",
      "2                     244       11/01/2003       Scholastic         NaN  \n",
      "3                   36325       05/01/2004  Scholastic Inc.         NaN  \n",
      "4                     164        9/13/2004       Scholastic         NaN  \n",
      "...                   ...              ...              ...         ...  \n",
      "11122                  20       12/21/2004    Da Capo Press         NaN  \n",
      "11123                  56       12/01/1988    Penguin Books         NaN  \n",
      "11124                  95       08/01/1993    Penguin Books         NaN  \n",
      "11125                 139        2/27/2007             Ecco         NaN  \n",
      "11126                  12        5/28/2006    Edimat Libros         NaN  \n",
      "\n",
      "[11124 rows x 13 columns]\n"
     ]
    }
   ],
   "source": [
    "# The original dataframe\n",
    "df_raw = booklist \n",
    "\n",
    "\n",
    "# Creating a dataframe with all incorrect rows,(using as a filter an int column)\n",
    "df_baka = df_raw[~df_raw.average_rating.str.contains(r'[0-9]')]\n",
    "\n",
    "\n",
    "\n",
    "# Droping rows that are in the trash dataframe (df_baka)\n",
    "df_clean = df_raw.drop(df_raw.index[df_baka.index])\n",
    "\n",
    "# (BL = Book List)\n",
    "BL = df_clean\n",
    "\n",
    "print(BL)"
   ]
  },
  {
   "cell_type": "markdown",
   "metadata": {},
   "source": [
    "## Text reviews\n",
    "**Booklist order by number of text reviews**"
   ]
  },
  {
   "cell_type": "code",
   "execution_count": 12,
   "metadata": {},
   "outputs": [
    {
     "name": "stdout",
     "output_type": "stream",
     "text": [
      "                                              title  text_reviews_count\n",
      "10340                       Twilight (Twilight  #1)               94265\n",
      "5272                                 The Book Thief               86881\n",
      "1069                      The Giver (The Giver  #1)               56604\n",
      "284                                   The Alchemist               55843\n",
      "10704                           Water for Elephants               52759\n",
      "...                                             ...                 ...\n",
      "4513                   The Custard Kid (Black Cats)                   0\n",
      "5567                                   West To Eden                   0\n",
      "5566   The Penguin Companion to European Literature                   0\n",
      "6644                       Danny  Champion Du Monde                   0\n",
      "830                              New Media Language                   0\n",
      "\n",
      "[11124 rows x 2 columns]\n"
     ]
    },
    {
     "name": "stderr",
     "output_type": "stream",
     "text": [
      "C:\\ProgramData\\Anaconda3\\lib\\site-packages\\ipykernel_launcher.py:8: UserWarning: Boolean Series key will be reindexed to match DataFrame index.\n",
      "  \n"
     ]
    },
    {
     "data": {
      "text/plain": [
       "<matplotlib.axes._subplots.AxesSubplot at 0x210c5730940>"
      ]
     },
     "execution_count": 12,
     "metadata": {},
     "output_type": "execute_result"
    },
    {
     "data": {
      "image/png": "[encoded data removed]",
      "text/plain": [
       "<Figure size 432x288 with 1 Axes>"
      ]
     },
     "metadata": {
      "needs_background": "light"
     },
     "output_type": "display_data"
    }
   ],
   "source": [
    "# books titles order by number of text reviews \n",
    "print(BL[['title','text_reviews_count']].sort_values(by=['text_reviews_count'], ascending = False))\n",
    "\n",
    "# Another way to find the same result\n",
    "max_reviews = BL['text_reviews_count'].max()\n",
    "\n",
    "# Find the row with max reviews\n",
    "BL[booklist['text_reviews_count'] == max_reviews]\n",
    "\n",
    "# Plotting text_reviews_counts\n",
    "BL['index'] = pd.Series(list(range(len(BL))))\n",
    "\n",
    "BL.plot(x='index', y='text_reviews_count', style='b.')"
   ]
  },
  {
   "cell_type": "markdown",
   "metadata": {},
   "source": [
    "## Books score\n",
    "**Booklist order by rating score**"
   ]
  },
  {
   "cell_type": "code",
   "execution_count": 9,
   "metadata": {},
   "outputs": [
    {
     "name": "stdout",
     "output_type": "stream",
     "text": [
      "                                                   title  ratings_count\n",
      "10340                            Twilight (Twilight  #1)        4597666\n",
      "1697                 The Hobbit  or There and Back Again        2530894\n",
      "1462                              The Catcher in the Rye        2457092\n",
      "307                 Angels & Demons (Robert Langdon  #1)        2418736\n",
      "3      Harry Potter and the Prisoner of Azkaban (Harr...        2339585\n",
      "...                                                  ...            ...\n",
      "9202                            Horizontal Gene Transfer              0\n",
      "4214   It's Only a Movie  Ingrid: Encounters on and O...              0\n",
      "7212                                 Secretos De Familia              0\n",
      "7754   A Farewell to Arms?: Beyond the Good Friday Ag...              0\n",
      "10266         Bill Gates: Computer Legend (Famous Lives)              0\n",
      "\n",
      "[11124 rows x 2 columns]\n"
     ]
    },
    {
     "data": {
      "text/plain": [
       "<matplotlib.axes._subplots.AxesSubplot at 0x210c5738978>"
      ]
     },
     "execution_count": 9,
     "metadata": {},
     "output_type": "execute_result"
    },
    {
     "data": {
      "image/png": "[encoded data removed]",
      "text/plain": [
       "<Figure size 432x288 with 1 Axes>"
      ]
     },
     "metadata": {
      "needs_background": "light"
     },
     "output_type": "display_data"
    }
   ],
   "source": [
    "# books titles order by number of text reviews \n",
    "print(BL[['title','ratings_count']].sort_values(by=['ratings_count'], ascending = False))\n",
    "\n",
    "# Another way to find the same result\n",
    "max_reviews = BL['ratings_count'].max()\n",
    "\n",
    "# Find the row with max reviews\n",
    "BL[BL['ratings_count'] == max_reviews]\n",
    "\n",
    "# Plotting total rating score\n",
    "BL.plot(x='index', y='ratings_count', style='r.')"
   ]
  },
  {
   "cell_type": "markdown",
   "metadata": {},
   "source": [
    "## Book score Top (average rating)\n",
    "\n",
    "**Top 5 books with the best average rating**"
   ]
  },
  {
   "cell_type": "code",
   "execution_count": 13,
   "metadata": {},
   "outputs": [
    {
     "name": "stdout",
     "output_type": "stream",
     "text": [
      "                                                   title   max_rank\n",
      "5272                                      The Book Thief  379669.97\n",
      "10340                            Twilight (Twilight  #1)  338411.35\n",
      "1069                           The Giver (The Giver  #1)  233774.52\n",
      "10704                                Water for Elephants  215784.31\n",
      "284                                        The Alchemist  215553.98\n",
      "...                                                  ...        ...\n",
      "8717               Richard Matheson's Hell House  Book 2       0.00\n",
      "9251     Magical Creatures (Easy To Read! Easy To Draw!)       0.00\n",
      "8214                 Adventures of the Scarlet Pimpernel       0.00\n",
      "10446  After Collapse: The Regeneration of Complex So...       0.00\n",
      "4922                Post Captain (Aubrey/Maturin Book 2)       0.00\n",
      "\n",
      "[11124 rows x 2 columns]\n"
     ]
    },
    {
     "data": {
      "text/plain": [
       "<matplotlib.axes._subplots.AxesSubplot at 0x210c5827da0>"
      ]
     },
     "execution_count": 13,
     "metadata": {},
     "output_type": "execute_result"
    },
    {
     "data": {
      "image/png": "[encoded data removed]",
      "text/plain": [
       "<Figure size 432x288 with 1 Axes>"
      ]
     },
     "metadata": {
      "needs_background": "light"
     },
     "output_type": "display_data"
    }
   ],
   "source": [
    "# Books titles order by number of text reviews \n",
    "\n",
    "\n",
    "BL['text_reviews_count'] = BL['text_reviews_count'].astype(float)\n",
    "BL['average_rating'] = BL['average_rating'].astype(float)\n",
    "\n",
    "BL['max_rank'] =  (BL['average_rating'])*(BL['text_reviews_count'])\n",
    "#print(df[['title','max_rank']].sort_values(by=['max_rank'], ascending = False))\n",
    "\n",
    "BL['max_rank']\n",
    "\n",
    "\n",
    "print(BL[['title','max_rank']].sort_values(by=['max_rank'], ascending = False))\n",
    "\n",
    "# Plotting total rating score\n",
    "BL.plot(x='index', y='max_rank', style='g.')"
   ]
  }
 ],
 "metadata": {
  "kernelspec": {
   "display_name": "Python 3",
   "language": "python",
   "name": "python3"
  },
  "language_info": {
   "codemirror_mode": {
    "name": "ipython",
    "version": 3
   },
   "file_extension": ".py",
   "mimetype": "text/x-python",
   "name": "python",
   "nbconvert_exporter": "python",
   "pygments_lexer": "ipython3",
   "version": "3.7.3"
  }
 },
 "nbformat": 4,
 "nbformat_minor": 2
}
